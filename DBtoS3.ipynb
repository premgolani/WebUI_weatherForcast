{
 "cells": [
  {
   "cell_type": "code",
   "execution_count": 1,
   "metadata": {},
   "outputs": [],
   "source": [
    "import urllib\n",
    "Access_Key = \"accesskey\"\n",
    "Secret_Key = \"secretkey\"\n",
    "ENCODED_SECRET_KEY = urllib.parse.quote(Secret_Key, \"\")\n",
    "AWS_BUCKET_NAME = \"wf.bucket\"\n",
    "MOUNT_NAME = \"my-data\"\n"
   ]
  },
  {
   "cell_type": "code",
   "execution_count": null,
   "metadata": {
    "scrolled": true
   },
   "outputs": [],
   "source": [
    "dbutils.fs.mount(\"s3n://%s:%s@%s\" % (Access_Key, ENCODED_SECRET_KEY, AWS_BUCKET_NAME), \"/mnt/%s\" % MOUNT_NAME)"
   ]
  },
  {
   "cell_type": "code",
   "execution_count": null,
   "metadata": {},
   "outputs": [],
   "source": [
    "#will show s3 bucket folders and file\n",
    "display(dbutils.fs.ls(\"/mnt/my-data\"))"
   ]
  },
  {
   "cell_type": "code",
   "execution_count": null,
   "metadata": {},
   "outputs": [],
   "source": [
    "#count the number of rows in this file\n",
    "myWeatherLogs = sc.textFile(\"/mnt/my-data/daily_weather.csv\")\n",
    "myWeatherLogs.count()"
   ]
  }
 ],
 "metadata": {
  "kernelspec": {
   "display_name": "Python 3",
   "language": "python",
   "name": "python3"
  },
  "language_info": {
   "codemirror_mode": {
    "name": "ipython",
    "version": 3
   },
   "file_extension": ".py",
   "mimetype": "text/x-python",
   "name": "python",
   "nbconvert_exporter": "python",
   "pygments_lexer": "ipython3",
   "version": "3.6.8"
  }
 },
 "nbformat": 4,
 "nbformat_minor": 2
}
